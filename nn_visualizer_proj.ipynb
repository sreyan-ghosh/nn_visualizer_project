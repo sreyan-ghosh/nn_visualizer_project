{
  "nbformat": 4,
  "nbformat_minor": 0,
  "metadata": {
    "colab": {
      "name": "nn_visualizer_proj.ipynb",
      "provenance": []
    },
    "kernelspec": {
      "name": "python3",
      "display_name": "Python 3"
    },
    "accelerator": "GPU"
  },
  "cells": [
    {
      "cell_type": "markdown",
      "metadata": {
        "id": "Zse5J7tNU6xk",
        "colab_type": "text"
      },
      "source": [
        "# Neural Network Visualizer"
      ]
    },
    {
      "cell_type": "markdown",
      "metadata": {
        "id": "8GTo4wjvVAEy",
        "colab_type": "text"
      },
      "source": [
        "### Importing Libraries"
      ]
    },
    {
      "cell_type": "code",
      "metadata": {
        "id": "BHpQJ3RxS09B",
        "colab_type": "code",
        "colab": {}
      },
      "source": [
        "import numpy as np\n",
        "import tensorflow as tf\n",
        "import matplotlib.pyplot as plt\n",
        "%matplotlib inline"
      ],
      "execution_count": 1,
      "outputs": []
    },
    {
      "cell_type": "markdown",
      "metadata": {
        "id": "gkqgDdobVCMF",
        "colab_type": "text"
      },
      "source": [
        "### Loading MNIST dataset"
      ]
    },
    {
      "cell_type": "code",
      "metadata": {
        "id": "83Ck0LZ0TOpq",
        "colab_type": "code",
        "colab": {
          "base_uri": "https://localhost:8080/",
          "height": 51
        },
        "outputId": "1894a128-c82f-4c12-b2ff-22582deab629"
      },
      "source": [
        "(X_train, y_train), (X_test, y_test) = tf.keras.datasets.mnist.load_data()"
      ],
      "execution_count": 2,
      "outputs": [
        {
          "output_type": "stream",
          "text": [
            "Downloading data from https://storage.googleapis.com/tensorflow/tf-keras-datasets/mnist.npz\n",
            "11493376/11490434 [==============================] - 0s 0us/step\n"
          ],
          "name": "stdout"
        }
      ]
    },
    {
      "cell_type": "markdown",
      "metadata": {
        "id": "GtaL9k4FVFjw",
        "colab_type": "text"
      },
      "source": [
        "### Plotting Data"
      ]
    },
    {
      "cell_type": "code",
      "metadata": {
        "id": "yHRKX9aFTWCs",
        "colab_type": "code",
        "colab": {
          "base_uri": "https://localhost:8080/",
          "height": 589
        },
        "outputId": "9b3fb0c0-0d41-4799-b96d-95faf61c7e44"
      },
      "source": [
        "plt.figure(figsize=(10,10))\n",
        "\n",
        "for i in range(0,16):\n",
        "    plt.subplot(4,4,i+1)\n",
        "    plt.imshow(X_train[i], cmap='Greys')\n",
        "    plt.xlabel(str(y_train[i]))\n",
        "    plt.xticks([])\n",
        "    plt.yticks([])\n",
        "plt.show()"
      ],
      "execution_count": 3,
      "outputs": [
        {
          "output_type": "display_data",
          "data": {
            "image/png": "[encoded data removed]",
            "text/plain": [
              "<Figure size 720x720 with 16 Axes>"
            ]
          },
          "metadata": {
            "tags": []
          }
        }
      ]
    },
    {
      "cell_type": "markdown",
      "metadata": {
        "id": "_X73RpijVIYP",
        "colab_type": "text"
      },
      "source": [
        "### Resizing data\n",
        "\n",
        "This is done to make a single line vector of the images to make it easier to feed into the neural network."
      ]
    },
    {
      "cell_type": "code",
      "metadata": {
        "id": "DLVvveX0Tt_Q",
        "colab_type": "code",
        "colab": {}
      },
      "source": [
        "X_train = np.reshape(X_train, (60000,784))\n",
        "X_train = X_train/255.0\n",
        "\n",
        "X_test = np.reshape(X_test, (10000,784))\n",
        "X_test = X_test/255.0"
      ],
      "execution_count": 4,
      "outputs": []
    },
    {
      "cell_type": "markdown",
      "metadata": {
        "id": "4z_eHpHAVkbJ",
        "colab_type": "text"
      },
      "source": [
        "### Model Creation and Training\n",
        "\n",
        "We create a 3 layer model and use use the activation as sigmoid for the purpose of visualization only. ReLU in this case would have given us better results in terms of accuracy."
      ]
    },
    {
      "cell_type": "code",
      "metadata": {
        "id": "s4LjCVQvUB5c",
        "colab_type": "code",
        "colab": {}
      },
      "source": [
        "model = tf.keras.Sequential([\n",
        "                             tf.keras.layers.Dense(32, activation='sigmoid', input_shape=(784,)),\n",
        "                             tf.keras.layers.Dense(32, activation='sigmoid'),\n",
        "                             tf.keras.layers.Dense(10, activation='softmax')\n",
        "])\n",
        "\n",
        "model.compile(\n",
        "    loss = 'sparse_categorical_crossentropy',\n",
        "    optimizer = 'adam',\n",
        "    metrics = ['accuracy']\n",
        ")"
      ],
      "execution_count": 5,
      "outputs": []
    },
    {
      "cell_type": "markdown",
      "metadata": {
        "id": "qAdCppIxV-Aj",
        "colab_type": "text"
      },
      "source": [
        "A large batch size is taken since the data is not compute intensive and to speed up the training process."
      ]
    },
    {
      "cell_type": "code",
      "metadata": {
        "id": "5cm484euUhMh",
        "colab_type": "code",
        "colab": {
          "base_uri": "https://localhost:8080/",
          "height": 697
        },
        "outputId": "7f58b99f-671c-4a5e-e63f-e148d7a21785"
      },
      "source": [
        "history = model.fit(X_train, y_train, validation_data=(X_test, y_test), epochs=20, batch_size=1024, verbose=2)"
      ],
      "execution_count": 6,
      "outputs": [
        {
          "output_type": "stream",
          "text": [
            "Epoch 1/20\n",
            "59/59 - 0s - loss: 2.1879 - accuracy: 0.3915 - val_loss: 1.9644 - val_accuracy: 0.6346\n",
            "Epoch 2/20\n",
            "59/59 - 0s - loss: 1.7648 - accuracy: 0.7042 - val_loss: 1.5384 - val_accuracy: 0.7667\n",
            "Epoch 3/20\n",
            "59/59 - 0s - loss: 1.3624 - accuracy: 0.7901 - val_loss: 1.1741 - val_accuracy: 0.8216\n",
            "Epoch 4/20\n",
            "59/59 - 0s - loss: 1.0498 - accuracy: 0.8355 - val_loss: 0.9116 - val_accuracy: 0.8530\n",
            "Epoch 5/20\n",
            "59/59 - 0s - loss: 0.8264 - accuracy: 0.8597 - val_loss: 0.7275 - val_accuracy: 0.8707\n",
            "Epoch 6/20\n",
            "59/59 - 0s - loss: 0.6702 - accuracy: 0.8749 - val_loss: 0.5993 - val_accuracy: 0.8841\n",
            "Epoch 7/20\n",
            "59/59 - 0s - loss: 0.5618 - accuracy: 0.8862 - val_loss: 0.5107 - val_accuracy: 0.8934\n",
            "Epoch 8/20\n",
            "59/59 - 0s - loss: 0.4859 - accuracy: 0.8943 - val_loss: 0.4475 - val_accuracy: 0.9011\n",
            "Epoch 9/20\n",
            "59/59 - 0s - loss: 0.4307 - accuracy: 0.9015 - val_loss: 0.4018 - val_accuracy: 0.9057\n",
            "Epoch 10/20\n",
            "59/59 - 0s - loss: 0.3897 - accuracy: 0.9078 - val_loss: 0.3659 - val_accuracy: 0.9107\n",
            "Epoch 11/20\n",
            "59/59 - 0s - loss: 0.3578 - accuracy: 0.9129 - val_loss: 0.3402 - val_accuracy: 0.9144\n",
            "Epoch 12/20\n",
            "59/59 - 0s - loss: 0.3328 - accuracy: 0.9167 - val_loss: 0.3164 - val_accuracy: 0.9198\n",
            "Epoch 13/20\n",
            "59/59 - 0s - loss: 0.3117 - accuracy: 0.9207 - val_loss: 0.2990 - val_accuracy: 0.9220\n",
            "Epoch 14/20\n",
            "59/59 - 0s - loss: 0.2941 - accuracy: 0.9239 - val_loss: 0.2837 - val_accuracy: 0.9247\n",
            "Epoch 15/20\n",
            "59/59 - 0s - loss: 0.2791 - accuracy: 0.9271 - val_loss: 0.2697 - val_accuracy: 0.9279\n",
            "Epoch 16/20\n",
            "59/59 - 0s - loss: 0.2658 - accuracy: 0.9297 - val_loss: 0.2584 - val_accuracy: 0.9300\n",
            "Epoch 17/20\n",
            "59/59 - 0s - loss: 0.2541 - accuracy: 0.9326 - val_loss: 0.2485 - val_accuracy: 0.9319\n",
            "Epoch 18/20\n",
            "59/59 - 0s - loss: 0.2433 - accuracy: 0.9352 - val_loss: 0.2396 - val_accuracy: 0.9349\n",
            "Epoch 19/20\n",
            "59/59 - 0s - loss: 0.2340 - accuracy: 0.9368 - val_loss: 0.2316 - val_accuracy: 0.9353\n",
            "Epoch 20/20\n",
            "59/59 - 0s - loss: 0.2249 - accuracy: 0.9391 - val_loss: 0.2234 - val_accuracy: 0.9379\n"
          ],
          "name": "stdout"
        }
      ]
    },
    {
      "cell_type": "markdown",
      "metadata": {
        "id": "HCZxYtnDWNZa",
        "colab_type": "text"
      },
      "source": [
        "### Saving the model\n",
        "\n",
        "The model is saved in a .h5 format to be loaded into the Keras API later for predictions in real-time."
      ]
    },
    {
      "cell_type": "code",
      "metadata": {
        "id": "hVWb-gKqUuya",
        "colab_type": "code",
        "colab": {}
      },
      "source": [
        "model.save('model.h5')"
      ],
      "execution_count": 7,
      "outputs": []
    },
    {
      "cell_type": "code",
      "metadata": {
        "id": "ZU3BJgm8U1PL",
        "colab_type": "code",
        "colab": {}
      },
      "source": [
        ""
      ],
      "execution_count": null,
      "outputs": []
    }
  ]
}